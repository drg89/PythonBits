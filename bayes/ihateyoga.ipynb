{
 "cells": [
  {
   "cell_type": "code",
   "execution_count": 1,
   "metadata": {},
   "outputs": [],
   "source": [
    "#multilabel classification with gaussian naive bayes\n",
    "import pandas as pd\n",
    "import numpy as np\n",
    "import matplotlib.pyplot as plt\n",
    "trainPath = 'data/train.csv'\n",
    "testPath = 'data/test.csv'"
   ]
  },
  {
   "cell_type": "code",
   "execution_count": 2,
   "metadata": {},
   "outputs": [],
   "source": [
    "def preprocess(trainPath, testPath):\n",
    "    names = ['class']\n",
    "    for x in range(12):\n",
    "\n",
    "        name = \"x\"+str(x)\n",
    "        names.append(name)\n",
    "    for y in range(12):\n",
    "\n",
    "        name = \"y\"+str(y)\n",
    "        names.append(name)\n",
    "    #change 9999 values to somehting tiny for our naive little souls\n",
    "    trainData = pd.read_csv(trainPath, names = names)\n",
    "    testData = pd.read_csv(testPath, names = names)\n",
    "    trainData,testData = [x.replace(to_replace=[9999.0, np.nan],value=0.00001) for x in [trainData,testData]]\n",
    "    classNames = trainData['class'].unique()\n",
    "    trainData = trainData.replace(classNames, range(len(classNames)))\n",
    "    testData = testData.replace(classNames, range(len(classNames)))\n",
    "    return trainData, testData, classNames"
   ]
  },
  {
   "cell_type": "code",
   "execution_count": 3,
   "metadata": {},
   "outputs": [],
   "source": [
    "def train(trainData, testData):\n",
    "    \"\"\"fit the training data to gaussian distro\"\"\"\n",
    "    prior = np.bincount(trainData['class'])/len(trainData)\n",
    "    means=[]\n",
    "    stds = []\n",
    "    for i in range(10):\n",
    "        means.append( trainData[trainData['class']==i].iloc[:,1:].mean(axis=0) )\n",
    "        stds.append ( trainData[trainData['class']==i].iloc[:,1:].std(axis=0) )\n",
    "    means = np.array(means)\n",
    "    stds = np.array(stds)    \n",
    "    return prior,means,stds"
   ]
  },
  {
   "cell_type": "code",
   "execution_count": 4,
   "metadata": {},
   "outputs": [],
   "source": [
    "def predInstance(x_new, prior, means, stds):\n",
    "    \"\"\"given an instance of data, returns prediction result and probability\"\"\"\n",
    "    probs = [(1/np.sqrt( 2*np.pi* stds[c]**2 ) * np.exp(-0.5*((x_new.astype(float)-means[c])/stds[c])**2)).prod()*prior[c] for c in range(len(means))]\n",
    "    return [probs.index(max(probs)), max(probs) - sum(probs)]"
   ]
  },
  {
   "cell_type": "code",
   "execution_count": 5,
   "metadata": {},
   "outputs": [],
   "source": [
    "#predict for a set of new instances\n",
    "\n",
    "def predict(testSet, prior, means, stds):\n",
    "    \"\"\"returns a list of (prediction results, probability)\"\"\"\n",
    "    testSet = testSet.iloc[:,1:]\n",
    "    results = []\n",
    "    for index, i in testSet.iterrows():\n",
    "        results.append( predInstance(i, prior, means, stds) )\n",
    "    return results"
   ]
  },
  {
   "cell_type": "code",
   "execution_count": 6,
   "metadata": {},
   "outputs": [],
   "source": [
    "# find accuracy \n",
    "\n",
    "def evaluate(testSet, testResults):\n",
    "    \"\"\"compares result class to ground truth\"\"\"\n",
    "    truth = testSet['class']\n",
    "    correctCount = 0\n",
    "    for i in range(len(testResults)):\n",
    "        if (truth[i] == testResults[i][0]):\n",
    "            correctCount+=1\n",
    "    return correctCount/len(testSet)"
   ]
  },
  {
   "cell_type": "code",
   "execution_count": 7,
   "metadata": {},
   "outputs": [],
   "source": [
    "#run main\n",
    "def main():\n",
    "    \"\"\"prints accuracy, returns results in list of (classIndex, probability)\"\"\"\n",
    "    trainData, testData, classNames = preprocess(trainPath, testPath)\n",
    "    print('processed...')\n",
    "    prior, means, stds = train(trainData, testData)\n",
    "    print('trained...')\n",
    "    print('predicting...')\n",
    "    results = predict(testData, prior, means, stds)\n",
    "    out = evaluate(testData, results)\n",
    "    print(f\"tested {len(results)} instances; model accuracy: {100*out:.6f}%\")\n",
    "    prediction = [i[0] for i in results]\n",
    "    p = [i[1] for i in results]\n",
    "    return pd.DataFrame(list(zip(prediction, testData.iloc[:,0], p)), columns = ['prediction', 'truth', 'P_prediction'])"
   ]
  },
  {
   "cell_type": "code",
   "execution_count": 8,
   "metadata": {},
   "outputs": [
    {
     "name": "stdout",
     "output_type": "stream",
     "text": [
      "processed...\n",
      "trained...\n",
      "predicting...\n",
      "tested 116 instances; model accuracy: 71.551724%\n",
      "     prediction  truth  P_prediction\n",
      "0             0      0 -9.052474e-17\n",
      "1             1      0 -3.702485e-09\n",
      "2             0      0 -2.171058e-18\n",
      "3             5      0 -5.421998e-14\n",
      "4             2      0 -1.446555e-09\n",
      "..          ...    ...           ...\n",
      "111           9      9 -9.426834e-14\n",
      "112           8      9 -4.404136e-14\n",
      "113           9      9 -9.442646e-13\n",
      "114           9      9 -6.688400e-14\n",
      "115           9      9 -2.664535e-15\n",
      "\n",
      "[116 rows x 3 columns]\n",
      "processed...\n",
      "trained...\n",
      "predicting...\n",
      "tested 116 instances; model accuracy: 71.551724%\n"
     ]
    }
   ],
   "source": [
    "print(main())\n",
    "df = main()"
   ]
  },
  {
   "cell_type": "code",
   "execution_count": 9,
   "metadata": {},
   "outputs": [],
   "source": [
    "#visualisation\n",
    "#sel = X[X['class']==5].iloc[5,1:]\n",
    "#x=[]\n",
    "#y=[]\n",
    "#for j in list(range(1,12)):\n",
    "#    #make x-y coordinated for visuallisation \n",
    "#    x.append(sel[j])\n",
    "#    y.append(sel[j+11])\n",
    "#plt.scatter(x,y)\n",
    "#plt.show()\n",
    "#y.index(max(y)),y.index(min(y)),x.index(max(x)),x.index(min(x))"
   ]
  },
  {
   "cell_type": "code",
   "execution_count": null,
   "metadata": {},
   "outputs": [],
   "source": [
    "#EVAL"
   ]
  },
  {
   "cell_type": "markdown",
   "metadata": {},
   "source": [
    "\n"
   ]
  },
  {
   "cell_type": "code",
   "execution_count": 10,
   "metadata": {},
   "outputs": [],
   "source": [
    "#precision = true_pos/(true_pos+false_pos)\n",
    "#recall = tp/(tp+fn)\n",
    "#f_score = 2*tp/(2*tp+fp+fn)\n",
    "X,Y,classNames = preprocess(trainPath, testPath)\n",
    "def calc1(df,c):\n",
    "    \"\"\"take result of main(), for some class c, calculate precision, recall, f_score\"\"\"\n",
    "    tp = np.where(np.logical_and(df['prediction'] == c, df['truth'] == c))[0].__len__()\n",
    "    fp = np.where(np.logical_and(df['prediction'] == c, df['truth'] != c))[0].__len__()\n",
    "    tn = np.where(np.logical_and(df['prediction'] != c, df['truth'] != c))[0].__len__()\n",
    "    fn = np.where(np.logical_and(df['prediction'] != c, df['truth'] == c))[0].__len__()\n",
    "    precision = tp/(tp+fp)\n",
    "    recall = tp/(tp+fn)\n",
    "    f_score = 2*tp/(2*tp+fp+fn)\n",
    "    return np.array([precision, recall, f_score])\n",
    "\n",
    "def micro_metrics(df):\n",
    "    \"\"\"micro-averaged metrics calculate precision, recall, f_score\"\"\"\n",
    "    tp,fp,fn = 0,0,0\n",
    "    for c in range(10):\n",
    "        tp += np.where(np.logical_and(df['prediction'] == c, df['truth'] == c))[0].__len__()\n",
    "        fp += np.where(np.logical_and(df['prediction'] == c, df['truth'] != c))[0].__len__()\n",
    "        fn += np.where(np.logical_and(df['prediction'] != c, df['truth'] == c))[0].__len__()\n",
    "    precision = tp/(tp+fp)\n",
    "    recall = tp/(tp+fn)\n",
    "    f_score = 2*tp/(2*tp+fp+fn)\n",
    "    return np.array([precision, recall, f_score])\n",
    "\n"
   ]
  },
  {
   "cell_type": "code",
   "execution_count": 11,
   "metadata": {},
   "outputs": [],
   "source": [
    "def macro_metrics(df):\n",
    "    \"\"\"returns macro-averaged precision, recall, f_score\"\"\"\n",
    "    precision, recall, f_score = 0,0,0\n",
    "    for i in range(10):\n",
    "        precision += calc1(df,i)[0]\n",
    "        recall += calc1(df,i)[1]\n",
    "        f_score += calc1(df,i)[1]\n",
    "    return np.array([precision, recall, f_score])/10"
   ]
  },
  {
   "cell_type": "code",
   "execution_count": 12,
   "metadata": {},
   "outputs": [
    {
     "name": "stdout",
     "output_type": "stream",
     "text": [
      "micro:[0.71551724 0.71551724 0.71551724]\n",
      " macro: [0.73317766 0.71488706 0.71488706]\n"
     ]
    }
   ],
   "source": [
    "print(f'micro:{micro_metrics(df)}\\n macro: {macro_metrics(df)}')"
   ]
  },
  {
   "cell_type": "code",
   "execution_count": 13,
   "metadata": {},
   "outputs": [
    {
     "data": {
      "text/plain": [
       "<matplotlib.collections.PathCollection at 0x7fd0cfbf89d0>"
      ]
     },
     "execution_count": 13,
     "metadata": {},
     "output_type": "execute_result"
    },
    {
     "data": {
      "image/png": "[encoded data removed]",
      "text/plain": [
       "<Figure size 432x288 with 1 Axes>"
      ]
     },
     "metadata": {
      "needs_background": "light"
     },
     "output_type": "display_data"
    }
   ],
   "source": [
    "#head positions:\n",
    "plt.scatter(X['x1'][1], X['y1'][1])\n"
   ]
  },
  {
   "cell_type": "code",
   "execution_count": 14,
   "metadata": {},
   "outputs": [
    {
     "data": {
      "text/plain": [
       "<matplotlib.collections.PathCollection at 0x7fd0cf3aea90>"
      ]
     },
     "execution_count": 14,
     "metadata": {},
     "output_type": "execute_result"
    },
    {
     "data": {
      "image/png": "[encoded data removed]",
      "text/plain": [
       "<Figure size 432x288 with 1 Axes>"
      ]
     },
     "metadata": {
      "needs_background": "light"
     },
     "output_type": "display_data"
    }
   ],
   "source": [
    "#L_foot_position\n",
    "plt.scatter(X['x7'], X['y7'])"
   ]
  }
 ],
 "metadata": {
  "kernelspec": {
   "display_name": "Python 3",
   "language": "python",
   "name": "python3"
  },
  "language_info": {
   "codemirror_mode": {
    "name": "ipython",
    "version": 3
   },
   "file_extension": ".py",
   "mimetype": "text/x-python",
   "name": "python",
   "nbconvert_exporter": "python",
   "pygments_lexer": "ipython3",
   "version": "3.8.5"
  }
 },
 "nbformat": 4,
 "nbformat_minor": 4
}
